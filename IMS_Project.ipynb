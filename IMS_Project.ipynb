{
 "cells": [
  {
   "cell_type": "code",
   "execution_count": 9,
   "metadata": {},
   "outputs": [
    {
     "data": {
      "text/plain": [
       "'The goal of this code base is to create a backend database for an inventory managemetn system. \\nWhich consist of a Products, Orders, Suppliers, OrderDetals, and Transactions\\n\\nProducts Table:\\nProd_ID VARCHAR (20)\\nProd_Name VARCHAR (50)\\nDescription REAL\\nPrice FLOAT\\nQuantity_Aval INT\\n\\nSuppliers Table:\\nSupplierID VARCHAR (20) (Primary Key)\\nSupplierName VARCHAR (50)\\nContactInfo REAL\\nAddress REAL\\n\\nOrders Table:\\nOrderID VARCHAR (20) (Primary Key),\\nOrderDate DATE,\\nSupplierID VARCHAR (20) (Foreign Key referencing the Suppliers table),\\nTotalAmount INT\\n\\nOrderDetails Table:\\nOrderDetailID VARCHAR (20) (Primary Key),\\nOrderID VARCHAR (20) (Foreign Key referencing the Orders table),\\nProductID VARCHAR(20) (Foreign Key referencing the Products table),\\nQuantityOrdered INT,\\nUnitPrice FLOAT,\\n\\nTransactions Table:\\nTransactionID VARCHAR (20)(Primary Key),\\nTransactionDate DATE,\\nProductID VARCHAR (20) (Foreign Key referencing the Products table),\\nQuantity INT,\\nTransactionType VARCHAR (25),\\nRemarks TEXT,\\n'"
      ]
     },
     "execution_count": 9,
     "metadata": {},
     "output_type": "execute_result"
    }
   ],
   "source": [
    "'''The goal of this code base is to create a backend database for an inventory managemetn system. \n",
    "Which consist of a Products, Orders, Suppliers, OrderDetals, and Transactions\n",
    "\n",
    "Products Table:\n",
    "Prod_ID VARCHAR (20)\n",
    "Prod_Name VARCHAR (50)\n",
    "Description REAL\n",
    "Price FLOAT\n",
    "Quantity_Aval INT\n",
    "\n",
    "Suppliers Table:\n",
    "SupplierID VARCHAR (20) (Primary Key)\n",
    "SupplierName VARCHAR (50)\n",
    "ContactInfo REAL\n",
    "Address REAL\n",
    "\n",
    "Orders Table:\n",
    "OrderID VARCHAR (20) (Primary Key),\n",
    "OrderDate DATE,\n",
    "SupplierID VARCHAR (20) (Foreign Key referencing the Suppliers table),\n",
    "TotalAmount INT\n",
    "\n",
    "OrderDetails Table:\n",
    "OrderDetailID VARCHAR (20) (Primary Key),\n",
    "OrderID VARCHAR (20) (Foreign Key referencing the Orders table),\n",
    "ProductID VARCHAR(20) (Foreign Key referencing the Products table),\n",
    "QuantityOrdered INT,\n",
    "UnitPrice FLOAT,\n",
    "\n",
    "Transactions Table:\n",
    "TransactionID VARCHAR (20)(Primary Key),\n",
    "TransactionDate DATE,\n",
    "ProductID VARCHAR (20) (Foreign Key referencing the Products table),\n",
    "Quantity INT,\n",
    "TransactionType VARCHAR (25),\n",
    "Remarks TEXT,\n",
    "'''\n",
    "\n",
    "\n"
   ]
  },
  {
   "cell_type": "code",
   "execution_count": 10,
   "metadata": {},
   "outputs": [],
   "source": [
    "import glob\n",
    "import os\n",
    "import pandas as pd \n",
    "import psycopg2\n",
    "from sqlalchemy import create_engine\n",
    "import sqlite3\n"
   ]
  },
  {
   "cell_type": "code",
   "execution_count": 11,
   "metadata": {},
   "outputs": [],
   "source": [
    "# Establish Postgres connection\n",
    "connection_params = {\n",
    "    'user': 'username',\n",
    "    'password': 'password',\n",
    "    'host': 'host',\n",
    "    'port': '5000',\n",
    "    'database': 'IMS_db'\n",
    "}"
   ]
  },
  {
   "cell_type": "code",
   "execution_count": 12,
   "metadata": {},
   "outputs": [],
   "source": [
    "db_name = 'IMS.db'\n",
    "engine = create_engine('sqlite:///'+ db_name, echo=False)\n",
    "file_dir = '/Users/rashaanrichardson/Desktop/SQL/Inventory_Mgt_Sys'\n",
    "csv_files = '/Users/rashaanrichardson/Desktop/SQL/Inventory_Mgt_Sys/IMS_CSV'\n",
    "\n",
    "conn = sqlite3.connect(db_name)\n",
    "c = conn.cursor()"
   ]
  },
  {
   "cell_type": "code",
   "execution_count": 13,
   "metadata": {},
   "outputs": [],
   "source": [
    "# c.execute('''DROP TABLE Product''')\n",
    "# c.execute('''DROP TABLE Orders''')\n",
    "# c.execute('''DROP TABLE Suppliers''')\n",
    "# c.execute('''DROP TABLE OrderDetails ''')\n",
    "# c.execute('''DROP TABLE Transactions''')\n",
    "tables = c.fetchall()\n",
    "for table in tables:\n",
    "        print(table[0])"
   ]
  },
  {
   "cell_type": "code",
   "execution_count": 14,
   "metadata": {},
   "outputs": [
    {
     "name": "stdout",
     "output_type": "stream",
     "text": [
      "['OrderDetails', 'Transactions', 'Orders', 'Suppliers', 'Products']\n"
     ]
    }
   ],
   "source": [
    "# Create Tables\n",
    "# Products \n",
    "c.execute('''CREATE TABLE IF NOT EXISTS Products(\n",
    "        ProdID VARCHAR (20) PRIMARY KEY NOT NULL,\n",
    "        ProdName VARCHAR (50) NOT NULL,\n",
    "        Description REAL,\n",
    "        Price FLOAT,\n",
    "        QuantityAval INT  \n",
    ")''')\n",
    "# Suppliers\n",
    "c.execute(''' CREATE TABLE IF NOT EXISTS Suppliers(\n",
    "        SupplierID VARCHAR (20) PRIMARY KEY NOT NULL,\n",
    "        SupplierName VARCHAR (50) NOT NULL,\n",
    "        ContactInfo REAL,\n",
    "        Address REAL\n",
    ")''')\n",
    "# Orders\n",
    "c.execute('''CREATE TABLE IF NOT EXISTS Orders(\n",
    "        OrderID VARCHAR (20) PRIMARY KEY NOT NULL,\n",
    "        OrderDate DATE,\n",
    "        SupplierID VARCHAR(20) NOT NULL,\n",
    "        TotalAmount INT,\n",
    "        FOREIGN KEY(SupplierID) REFERENCES Suppliers(SupplierID)\n",
    ")''')\n",
    "# Order Details\n",
    "c.execute(''' CREATE TABLE IF NOT EXISTS OrderDetails(\n",
    "        OrderDetailID VARCHAR (20) PRIMARY KEY NOT NULL,\n",
    "        OrderID VARCHAR (20)NOT NULL,\n",
    "        ProductID VARCHAR (20),\n",
    "        QuantityOrdered INT,\n",
    "        UnitPrice FLOAT,\n",
    "        FOREIGN KEY (OrderID) REFERENCES Orders(OrderID),\n",
    "        FOREIGN KEY (ProductID) REFERENCES Products(ProdID)\n",
    ")''')\n",
    "# Transactions\n",
    "c.execute('''CREATE TABLE IF NOT EXISTS Transactions(\n",
    "        TransactionID VARCHAR (20) PRIMARY KEY NOT NULL,\n",
    "        TransactionDate DATE,\n",
    "        ProdID VARCHAR (20),\n",
    "        Quantity INT,\n",
    "        TransactionType VARCHAR (25),\n",
    "        Remarks TEXT,\n",
    "        FOREIGN KEY (ProdID) REFERENCES Products(ProdID)\n",
    ")''')\n",
    "\n",
    "# Fetch table names from SQLite database\n",
    "c.execute('''SELECT name FROM sqlite_master WHERE type='table';''')\n",
    "tables = c.fetchall()\n",
    "all_tables = [table[0] for table in tables]  # Extract table names from fetched data\n",
    "print(all_tables)"
   ]
  },
  {
   "cell_type": "code",
   "execution_count": 15,
   "metadata": {},
   "outputs": [
    {
     "name": "stdout",
     "output_type": "stream",
     "text": [
      "Is in OrderDetails ['OrderDetails', 'Transactions', 'Orders', 'Suppliers', 'Products']\n",
      "Contents of table 'OrderDetails':\n",
      "   OrderDetailID  OrderID  ProductID  QuantityOrdered  UnitPrice\n",
      "0              1        1          1               10      10.99\n",
      "1              2        1          2                5      29.99\n",
      "2              3        2          3                8      19.99\n",
      "3              4        2          4                3      39.99\n",
      "4              5        3          5               15      49.99\n",
      "Is in Transactions ['OrderDetails', 'Transactions', 'Orders', 'Suppliers', 'Products']\n",
      "Contents of table 'Transactions':\n",
      "   TransactionID TransactionDate  ProdID  Quantity TransactionType  \\\n",
      "0              1      2024-02-25       1        20         Inbound   \n",
      "1              2      2024-02-26       2        10        Outbound   \n",
      "2              3      2024-02-27       3         5         Inbound   \n",
      "3              4      2024-02-28       4         2        Outbound   \n",
      "4              5      2024-02-29       5         8        Outbound   \n",
      "\n",
      "                   Remarks  \n",
      "0       Received new stock  \n",
      "1         Sold to customer  \n",
      "2  Received returned items  \n",
      "3         Sold to customer  \n",
      "4         Sold to customer  \n",
      "Is in Orders ['OrderDetails', 'Transactions', 'Orders', 'Suppliers', 'Products']\n",
      "Contents of table 'Orders':\n",
      "   OrderID   OrderDate  SupplierID  TotalAmount\n",
      "0        1  2024-02-25           1        100.0\n",
      "1        2  2024-02-26           2        200.0\n",
      "2        3  2024-02-27           3        150.0\n",
      "3        4  2024-02-28           4        300.0\n",
      "4        5  2024-02-29           5        250.0\n",
      "Is in Suppliers ['OrderDetails', 'Transactions', 'Orders', 'Suppliers', 'Products']\n",
      "Contents of table 'Suppliers':\n",
      "   SupplierID SupplierName   ContactInfo       Address\n",
      "0           1   Supplier A  123-456-7890   123 Main St\n",
      "1           2   Supplier B  456-789-0123    456 Elm St\n",
      "2           3   Supplier C  789-012-3456    789 Oak St\n",
      "3           4   Supplier D  321-654-9870  321 Maple St\n",
      "4           5   Supplier E  654-987-0123   654 Pine St\n",
      "Is in Products ['OrderDetails', 'Transactions', 'Orders', 'Suppliers', 'Products']\n",
      "Contents of table 'Products':\n",
      "   ProdID  ProdName                             Description  Price  \\\n",
      "0       1  Widget A           Small widget for everyday use  10.99   \n",
      "1       2  Widget B       Large widget for heavy-duty tasks  29.99   \n",
      "2       3  Widget C  Medium widget for various applications  19.99   \n",
      "3       4  Widget D     Advanced widget with extra features  39.99   \n",
      "4       5  Widget E         Widget designed for outdoor use  49.99   \n",
      "\n",
      "   QuantityAval  \n",
      "0           100  \n",
      "1            50  \n",
      "2            75  \n",
      "3            25  \n",
      "4            40  \n"
     ]
    }
   ],
   "source": [
    "# Iterate over CSV files in the directory\n",
    "for file in glob.glob(os.path.join(csv_files, '*.csv')):\n",
    "    # Isolate the name\n",
    "    insert_name = os.path.basename(file).removesuffix('_Insert.csv')\n",
    "    try:\n",
    "        # Read the CSV file into a DataFrame\n",
    "        df = pd.read_csv(file)\n",
    "        # Check if the table exists in the database\n",
    "        if insert_name in all_tables:\n",
    "            print('Is in',insert_name,all_tables)\n",
    "            # If the table exists, replace its contents with data from the CSV file\n",
    "            df.to_sql(insert_name, con=engine, if_exists='replace', index=False)\n",
    "    #         # Print the contents of the table\n",
    "            query = f\"SELECT * FROM {insert_name}\"\n",
    "            print(f\"Contents of table '{insert_name}':\")\n",
    "            print(pd.read_sql(query, con=engine))\n",
    "        else:\n",
    "            print(f\"Table {insert_name} does not exist in the database.\")\n",
    "    except Exception as e:\n",
    "        print(f\"Error processing file {file}: {e}\")\n",
    "\n",
    "\n"
   ]
  },
  {
   "cell_type": "code",
   "execution_count": null,
   "metadata": {},
   "outputs": [],
   "source": []
  }
 ],
 "metadata": {
  "kernelspec": {
   "display_name": "Python 3",
   "language": "python",
   "name": "python3"
  },
  "language_info": {
   "codemirror_mode": {
    "name": "ipython",
    "version": 3
   },
   "file_extension": ".py",
   "mimetype": "text/x-python",
   "name": "python",
   "nbconvert_exporter": "python",
   "pygments_lexer": "ipython3",
   "version": "3.10.2"
  },
  "orig_nbformat": 4
 },
 "nbformat": 4,
 "nbformat_minor": 2
}
